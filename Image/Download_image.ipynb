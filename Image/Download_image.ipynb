{
 "cells": [
  {
   "cell_type": "markdown",
   "metadata": {},
   "source": [
    "# Async IO"
   ]
  },
  {
   "cell_type": "code",
   "execution_count": null,
   "metadata": {},
   "outputs": [],
   "source": [
    "from load_url import *\n",
    "import nest_asyncio\n",
    "nest_asyncio.apply()\n",
    "\n",
    "def load_urls(file_list, url_col, parent_directory):\n",
    "    loop = asyncio.get_event_loop()  # event loop\n",
    "    future = asyncio.ensure_future(fetch_all(file_list, url_col, parent_directory))\n",
    "    loop.run_until_complete(future)\n",
    "    file_list = future.result()[0]\n",
    "    image_arr_list = future.result()[1]\n",
    "    return file_list, image_arr_list"
   ]
  },
  {
   "cell_type": "code",
   "execution_count": null,
   "metadata": {},
   "outputs": [],
   "source": [
    "url_col = 'URL'\n",
    "parent_directory = 'images/'\n",
    "\n",
    "total = df.shape[0]\n",
    "batch_size = 200\n",
    "for i in range(0, total, batch_size):\n",
    "    input_dict = df[i:i+batch_size].to_dict(orient='records')\n",
    "    files, _ = load_urls(input_dict, url_col, parent_directory)"
   ]
  },
  {
   "cell_type": "code",
   "execution_count": null,
   "metadata": {},
   "outputs": [],
   "source": []
  },
  {
   "cell_type": "markdown",
   "metadata": {},
   "source": [
    "# futures (ThreadPoolExecutor)"
   ]
  },
  {
   "cell_type": "code",
   "execution_count": null,
   "metadata": {},
   "outputs": [],
   "source": [
    "# load image from url\n",
    "def load_image(im_url):\n",
    "    response = requests.get(im_url, timeout=3, verify=False , proxies=proxyDict)\n",
    "    im = Image.open(BytesIO(response.content))\n",
    "    return im\n",
    "\n",
    "\n",
    "# convert image to RGB mode if it's not\n",
    "def change_image_mode(im, change_to='RGB'):\n",
    "    if im.mode == 'RGBA':\n",
    "        x = np.array(im)\n",
    "        r, g, b, a = np.rollaxis(x, axis=-1)\n",
    "        r[a == 0] = 255\n",
    "        g[a == 0] = 255\n",
    "        b[a == 0] = 255\n",
    "        x = np.dstack([r, g, b])\n",
    "        im = Image.fromarray(x, change_to)\n",
    "    else:\n",
    "        im = im.convert(change_to)\n",
    "    return im\n",
    "\n",
    "\n",
    "# resize image to different sizes. Return a list\n",
    "def resize_image(im, resizes):\n",
    "    im_arrays = []\n",
    "    for size in resizes:\n",
    "        try:\n",
    "            im_resized = im.resize(size, Image.ANTIALIAS)\n",
    "            im_arr = np.asarray(im_resized)\n",
    "        except Exception as e:\n",
    "            logging.warning(\"could not resize to {}\".format(size[0], size[1]))\n",
    "            im_arr = None\n",
    "        else:\n",
    "            if im_arr.shape != (size[0], size[1], 3):\n",
    "                logging.warning(\"could not resize to {}\".format(size[0], size[1]))\n",
    "                im_arr = None\n",
    "        im_arrays.append(im_arr)\n",
    "\n",
    "    return im_arrays\n",
    "\n",
    "\n",
    "# normalize image\n",
    "def normalize_image(im_arrays):\n",
    "    # input im_arrays is a list\n",
    "    norm_images_for_model = np.array(im_arrays).astype(float)\n",
    "    norm_images_for_model /= 255.0\n",
    "    return norm_images_for_model"
   ]
  },
  {
   "cell_type": "code",
   "execution_count": null,
   "metadata": {},
   "outputs": [],
   "source": [
    "# process image and catch all exceptions\n",
    "# return an numpy array list and a string\n",
    "def preprocess_image(im, resizes, min_size=(128, 128), change_to='RGB'):\n",
    "    # convert image\n",
    "    im_mode = im.mode\n",
    "    if im_mode == 'RGB':\n",
    "        pass\n",
    "    elif im_mode in ['RGBA', 'P', 'L', 'CMYK' ]:\n",
    "        try:\n",
    "            im = change_image_mode(im, change_to=change_to)\n",
    "        except:\n",
    "            err_message = 'Image mode conversion failed from %s to %s' %(im_mode, change_to)\n",
    "            return None, err_message\n",
    "    else:\n",
    "        err_message = \"Image processing failed - invalid image mode: {}\".format(im.mode)\n",
    "        return None, err_message\n",
    "\n",
    "    # check image size and resize images\n",
    "    w, h = im.size\n",
    "    if w < min_size[0] and h < min_size[1]:\n",
    "        return None, \"Image is too small: {}, {}\".format(w, h)\n",
    "\n",
    "    im_array = resize_image(im, resizes)\n",
    "\n",
    "    return im_array, None"
   ]
  },
  {
   "cell_type": "code",
   "execution_count": null,
   "metadata": {},
   "outputs": [],
   "source": [
    "# load several images in parralel.\n",
    "# return successfully loaded image only\n",
    "def load_images_parallel_futures(product_imagedata, resize_to, min_size=(128, 128)):\n",
    "    im_metadata = list()\n",
    "    images_for_model = list()\n",
    "    im_metadata_err = list()\n",
    "    # Load images in parallel\n",
    "    n = len(product_imagedata)\n",
    "\n",
    "    # We can use a with statement to ensure threads are cleaned up promptly\n",
    "    with futures.ThreadPoolExecutor(max_workers=n) as executor:  # io bounds task\n",
    "        # Start the load operations and mark each future with its URL\n",
    "        future_to_imdata = {executor.submit(load_image, im_data['url']):\n",
    "                                im_data for im_data in product_imagedata}\n",
    "        for future in futures.as_completed(future_to_imdata):\n",
    "            next_data = future_to_imdata[future]\n",
    "            try:\n",
    "                loaded_image_data = future.result()\n",
    "            except Exception as e:\n",
    "                logging.warn('%r generated an exception: %s' % (next_data, e))\n",
    "                im_metadata_err.append(next_data)\n",
    "            else:\n",
    "                if not loaded_image_data:\n",
    "                    logging.error(\"loaded image is invalid\")\n",
    "                    im_metadata_err.append(next_data)\n",
    "                    continue\n",
    "\n",
    "                image_arr, err = preprocess_image(loaded_image_data, resizes=[resize_to], min_size=min_size)\n",
    "                if err:\n",
    "                    logging.warning(err)\n",
    "                else:\n",
    "                    im_metadata.append(next_data)\n",
    "                    images_for_model.append(image_arr[0])\n",
    "\n",
    "    norm_images_for_model = normalize_image(images_for_model)\n",
    "\n",
    "    return (im_metadata, norm_images_for_model), im_metadata_err"
   ]
  }
 ],
 "metadata": {
  "kernelspec": {
   "display_name": "Python 3",
   "language": "python",
   "name": "python3"
  },
  "language_info": {
   "codemirror_mode": {
    "name": "ipython",
    "version": 3
   },
   "file_extension": ".py",
   "mimetype": "text/x-python",
   "name": "python",
   "nbconvert_exporter": "python",
   "pygments_lexer": "ipython3",
   "version": "3.8.3"
  }
 },
 "nbformat": 4,
 "nbformat_minor": 4
}

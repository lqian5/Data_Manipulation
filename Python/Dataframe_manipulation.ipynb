{
 "cells": [
  {
   "cell_type": "code",
   "execution_count": 1,
   "metadata": {},
   "outputs": [],
   "source": [
    "import pandas as pd"
   ]
  },
  {
   "cell_type": "markdown",
   "metadata": {},
   "source": [
    "# 1. Read and Save"
   ]
  },
  {
   "cell_type": "markdown",
   "metadata": {},
   "source": [
    "### a. Dataframe and csv file"
   ]
  },
  {
   "cell_type": "code",
   "execution_count": null,
   "metadata": {},
   "outputs": [],
   "source": [
    "pd.read_csv(file)\n",
    "pd.read_excel(file)\n",
    "df.to_csv(file, index=False)"
   ]
  },
  {
   "cell_type": "markdown",
   "metadata": {},
   "source": [
    "### b. From string to dataframe"
   ]
  },
  {
   "cell_type": "code",
   "execution_count": null,
   "metadata": {},
   "outputs": [],
   "source": [
    "from io import StringIO\n",
    "\n",
    "TESTDATA = StringIO(\"\"\"col1;col2;col3\n",
    "    1;4.4;99\n",
    "    2;4.5;200\n",
    "    3;4.7;65\n",
    "    4;3.2;140\n",
    "    \"\"\")\n",
    "\n",
    "df = pd.read_csv(TESTDATA, sep=\";\")"
   ]
  },
  {
   "cell_type": "markdown",
   "metadata": {},
   "source": [
    "### c. Dictionary and dataframe"
   ]
  },
  {
   "cell_type": "code",
   "execution_count": null,
   "metadata": {},
   "outputs": [],
   "source": [
    "# dictionary to dataframe\n",
    "df = pd.DataFrame.from_dict({'col_1': [0,1], 'col_2': ['a', 'b']})"
   ]
  },
  {
   "cell_type": "code",
   "execution_count": null,
   "metadata": {},
   "outputs": [],
   "source": [
    "# dataframe to dictionary records\n",
    "list_dict = df.to_dict(orient='records')"
   ]
  },
  {
   "cell_type": "markdown",
   "metadata": {},
   "source": [
    "### d. List of json to Dataframe"
   ]
  },
  {
   "cell_type": "code",
   "execution_count": null,
   "metadata": {},
   "outputs": [],
   "source": [
    "# from list of string, where each string is json/dictionary like object\n",
    "import json\n",
    "with open(infile) as f:\n",
    "    content = f.readlines()\n",
    "\n",
    "# use lambda and map to convert each line to json\n",
    "list_json = map(lambda x: json.loads(x), data)\n",
    "\n",
    "# convert map object to list\n",
    "df = pd.DataFrame(list(list_json))"
   ]
  },
  {
   "cell_type": "markdown",
   "metadata": {},
   "source": [
    "### e. List of list to Dataframe"
   ]
  },
  {
   "cell_type": "code",
   "execution_count": null,
   "metadata": {},
   "outputs": [],
   "source": [
    "data = [['Geeks', 10], ['for', 15], ['geeks', 20]]   \n",
    "df = pd.DataFrame(data, columns = ['Name', 'Age']) "
   ]
  },
  {
   "cell_type": "code",
   "execution_count": null,
   "metadata": {},
   "outputs": [],
   "source": []
  },
  {
   "cell_type": "markdown",
   "metadata": {},
   "source": [
    "# 2. Missing values"
   ]
  },
  {
   "cell_type": "code",
   "execution_count": null,
   "metadata": {},
   "outputs": [],
   "source": [
    "# remove records that has nan for some columns\n",
    "df = df[df['col_name'].notna()]"
   ]
  },
  {
   "cell_type": "code",
   "execution_count": null,
   "metadata": {},
   "outputs": [],
   "source": [
    "# replace na with 0 for a column\n",
    "df['col_name'] = df['col_name'].fillna(0)\n",
    "\n",
    "# or whole df\n",
    "df.fillna(0)"
   ]
  },
  {
   "cell_type": "code",
   "execution_count": null,
   "metadata": {},
   "outputs": [],
   "source": [
    "# view records with nan in col2\n",
    "df[df['col_name'].isnull()]\n",
    "\n",
    "# view without nan\n",
    "df[df['col_name'].notnull()]"
   ]
  },
  {
   "cell_type": "code",
   "execution_count": null,
   "metadata": {},
   "outputs": [],
   "source": []
  },
  {
   "cell_type": "markdown",
   "metadata": {},
   "source": [
    "# 3. Select and Update"
   ]
  },
  {
   "cell_type": "markdown",
   "metadata": {},
   "source": [
    "### a. Select on conditions"
   ]
  },
  {
   "cell_type": "code",
   "execution_count": null,
   "metadata": {},
   "outputs": [],
   "source": [
    "# select based on AND(&) or OR (|) conditions\n",
    "# optional: reset index\n",
    "df[(df.batch =='Home0405') & (df.y_predicted == 'lifestyle') ].reset_index(drop=True)\n",
    "\n",
    "# negate the previous and condition\n",
    "df[~((df.batch =='Home0405') & (df.y_predicted == 'lifestyle'))]"
   ]
  },
  {
   "cell_type": "markdown",
   "metadata": {},
   "source": [
    "### b. Iterrate dataframe"
   ]
  },
  {
   "cell_type": "code",
   "execution_count": null,
   "metadata": {},
   "outputs": [],
   "source": [
    "# iterrate dataframe\n",
    "for index, row in data_df.iterrows():\n",
    "    row['batch']"
   ]
  },
  {
   "cell_type": "markdown",
   "metadata": {},
   "source": [
    "### c. Update column values on condition"
   ]
  },
  {
   "cell_type": "code",
   "execution_count": null,
   "metadata": {},
   "outputs": [],
   "source": [
    "df.loc[df['batch']=='Home04&5', 'batch'] = 'Home0405'"
   ]
  },
  {
   "cell_type": "markdown",
   "metadata": {},
   "source": [
    "### d. Create new columns using apply function"
   ]
  },
  {
   "cell_type": "code",
   "execution_count": null,
   "metadata": {},
   "outputs": [],
   "source": [
    "# create new column based on existing columns\n",
    "df['img_name'] = df.apply(lambda row:\n",
    "                          row['productId'] + \"_\" + row['url'].split('.')[-2][-3:] + \".jpg\",\n",
    "                          axis=1)\n",
    "\n",
    "# use if else condition to assign different values \n",
    "df['score_rating'] = df.apply(lambda row: 3 if row['score'] >0.9 else \n",
    "                              (2 if row['score'] > 0.8 else 1), axis =1)\n",
    "\n",
    "\n",
    "# combine two list in two columns, also checking secondaryURL is indeed non empty / list\n",
    "df['assetUrls'] = df.apply(lambda row:\n",
    "                          row['primaryURL'] + row['secondaryURL'] if isinstance(row['secondaryURL'], list) else row['primaryURL'],\n",
    "                          axis=1)"
   ]
  },
  {
   "cell_type": "markdown",
   "metadata": {},
   "source": [
    "### e. drop columns"
   ]
  },
  {
   "cell_type": "code",
   "execution_count": null,
   "metadata": {},
   "outputs": [],
   "source": [
    "df.drop(columns=['B', 'C'], inplace = True)"
   ]
  },
  {
   "cell_type": "code",
   "execution_count": null,
   "metadata": {},
   "outputs": [],
   "source": []
  },
  {
   "cell_type": "markdown",
   "metadata": {},
   "source": [
    "# 4. Group By"
   ]
  },
  {
   "cell_type": "markdown",
   "metadata": {},
   "source": [
    "### a. Group by and aggregate"
   ]
  },
  {
   "cell_type": "code",
   "execution_count": null,
   "metadata": {},
   "outputs": [],
   "source": [
    "# one example of applying different agg functions on different columns\n",
    "df.groupby('A').agg({'B': ['min', 'max'], 'C': 'sum'})"
   ]
  },
  {
   "cell_type": "code",
   "execution_count": null,
   "metadata": {},
   "outputs": [],
   "source": [
    "# df\n",
    "#    A   B   C\n",
    "# 0  1  10  22\n",
    "# 1  1  12  20\n",
    "# ...\n",
    "\n",
    "# groupby by A and have unique value in rest of the columns as a list\n",
    "df2 = df.groupby('A').aggregate(lambda tdf: tdf.unique().tolist())\n",
    "\n",
    "# df2\n",
    "#               B                C\n",
    "# A                               \n",
    "# 1  [10, 12, 11]  [22, 20, 8, 10]\n",
    "# 2      [11, 12]         [13, 10]\n",
    "# ..."
   ]
  },
  {
   "cell_type": "markdown",
   "metadata": {},
   "source": [
    "### b. Group by and filter"
   ]
  },
  {
   "cell_type": "code",
   "execution_count": null,
   "metadata": {},
   "outputs": [],
   "source": [
    "# groupby and then filter the original df\n",
    "grouped = df.groupby('A')\n",
    "\n",
    "# keep the records if the group has a B mean above 3\n",
    "grouped.filter(lambda x: x['B'].mean() > 3.)\n",
    "# keep the records if the group has at least 2 unique values in column b.\n",
    "grouped.filter(lambda x: x['B'].nunique() > 1)"
   ]
  },
  {
   "cell_type": "markdown",
   "metadata": {},
   "source": [
    "### c. Group by and apply"
   ]
  },
  {
   "cell_type": "code",
   "execution_count": null,
   "metadata": {},
   "outputs": [],
   "source": [
    "# select 20% of images for each productype and label if there are at least 5 images\n",
    "# pick one image if there are at least 2\n",
    "# if there's only one image, 50% chance will be labeled as test\n",
    "index = final_df.reset_index().groupby([\"productType\", \"label\"]).\\\n",
    "        apply(lambda x: x.sample( int(round(0.20*len(x), 0))) if len(x)>=5 else (\n",
    "        x.sample(1) if len(x)>1 else (\n",
    "        x if random.random()>=0.5 else None)) )['index'].reset_index(level=[0, 1])['index'].values\n",
    "\n",
    "final_df['train_or_test'] = [\"test\" if x in index else \"train\" for (x, row) in final_df.iterrows()] "
   ]
  },
  {
   "cell_type": "code",
   "execution_count": null,
   "metadata": {},
   "outputs": [],
   "source": [
    "# select rows where B is max value in each group when grouped by A \n",
    "df.groupby('A').apply(lambda x: x[x.B == x.B.max()]).reset_index(drop=True)"
   ]
  },
  {
   "cell_type": "markdown",
   "metadata": {},
   "source": [
    "### d. Select dataframe from group by & transform"
   ]
  },
  {
   "cell_type": "code",
   "execution_count": null,
   "metadata": {},
   "outputs": [],
   "source": [
    "dfls = df[df['overral_raing'] == df.groupby('itemId')['overral_raing'].transform('max')]"
   ]
  },
  {
   "cell_type": "code",
   "execution_count": null,
   "metadata": {},
   "outputs": [],
   "source": []
  },
  {
   "cell_type": "markdown",
   "metadata": {},
   "source": [
    "# 5. Reshape Wide Dataframe to Long"
   ]
  },
  {
   "cell_type": "markdown",
   "metadata": {},
   "source": [
    "### a. the individual value is in additional columns"
   ]
  },
  {
   "cell_type": "code",
   "execution_count": 3,
   "metadata": {},
   "outputs": [
    {
     "data": {
      "text/html": [
       "<div>\n",
       "<style scoped>\n",
       "    .dataframe tbody tr th:only-of-type {\n",
       "        vertical-align: middle;\n",
       "    }\n",
       "\n",
       "    .dataframe tbody tr th {\n",
       "        vertical-align: top;\n",
       "    }\n",
       "\n",
       "    .dataframe thead th {\n",
       "        text-align: right;\n",
       "    }\n",
       "</style>\n",
       "<table border=\"1\" class=\"dataframe\">\n",
       "  <thead>\n",
       "    <tr style=\"text-align: right;\">\n",
       "      <th></th>\n",
       "      <th>S.no</th>\n",
       "      <th>Batch</th>\n",
       "      <th>majority PT</th>\n",
       "      <th>imageurl_1</th>\n",
       "      <th>imageurl_2</th>\n",
       "      <th>imageurl_3</th>\n",
       "      <th>imageurl_4</th>\n",
       "      <th>imageurl_5</th>\n",
       "      <th>Final Decision</th>\n",
       "      <th>Number of images in cluster</th>\n",
       "      <th>Number of matching images</th>\n",
       "      <th>Incorrect Image URLS</th>\n",
       "      <th>Incorrect Image Number</th>\n",
       "      <th>Image URL Number unrelated to the Home Category</th>\n",
       "      <th>Image URLs unrelated to the Home Category</th>\n",
       "      <th>Comments</th>\n",
       "    </tr>\n",
       "  </thead>\n",
       "  <tbody>\n",
       "    <tr>\n",
       "      <th>0</th>\n",
       "      <td>1</td>\n",
       "      <td>1</td>\n",
       "      <td>Hammock Chairs</td>\n",
       "      <td>https://i5.walmartimages.com/asr/f595ac7d-591d...</td>\n",
       "      <td>https://i5.walmartimages.com/asr/bb16a459-cb5d...</td>\n",
       "      <td>https://i5.walmartimages.com/asr/b3f75037-e629...</td>\n",
       "      <td>https://i5.walmartimages.com/asr/b7292205-92e0...</td>\n",
       "      <td>https://i5.walmartimages.com/asr/9278b1bf-0ff3...</td>\n",
       "      <td>lifestyle</td>\n",
       "      <td>5</td>\n",
       "      <td>5</td>\n",
       "      <td>NaN</td>\n",
       "      <td>NaN</td>\n",
       "      <td>NaN</td>\n",
       "      <td>NaN</td>\n",
       "      <td>NaN</td>\n",
       "    </tr>\n",
       "    <tr>\n",
       "      <th>1</th>\n",
       "      <td>2</td>\n",
       "      <td>1</td>\n",
       "      <td>Hammock Chairs</td>\n",
       "      <td>https://i5.walmartimages.com/asr/ccaab6a1-cd31...</td>\n",
       "      <td>https://i5.walmartimages.com/asr/03818751-4ffb...</td>\n",
       "      <td>https://i5.walmartimages.com/asr/15f0522d-22ba...</td>\n",
       "      <td>https://i5.walmartimages.com/asr/e7d169b8-54a9...</td>\n",
       "      <td>https://i5.walmartimages.com/asr/b163f289-256a...</td>\n",
       "      <td>lifestyle</td>\n",
       "      <td>5</td>\n",
       "      <td>5</td>\n",
       "      <td>NaN</td>\n",
       "      <td>NaN</td>\n",
       "      <td>NaN</td>\n",
       "      <td>NaN</td>\n",
       "      <td>NaN</td>\n",
       "    </tr>\n",
       "  </tbody>\n",
       "</table>\n",
       "</div>"
      ],
      "text/plain": [
       "   S.no Batch     majority PT  \\\n",
       "0     1     1  Hammock Chairs   \n",
       "1     2     1  Hammock Chairs   \n",
       "\n",
       "                                          imageurl_1  \\\n",
       "0  https://i5.walmartimages.com/asr/f595ac7d-591d...   \n",
       "1  https://i5.walmartimages.com/asr/ccaab6a1-cd31...   \n",
       "\n",
       "                                          imageurl_2  \\\n",
       "0  https://i5.walmartimages.com/asr/bb16a459-cb5d...   \n",
       "1  https://i5.walmartimages.com/asr/03818751-4ffb...   \n",
       "\n",
       "                                          imageurl_3  \\\n",
       "0  https://i5.walmartimages.com/asr/b3f75037-e629...   \n",
       "1  https://i5.walmartimages.com/asr/15f0522d-22ba...   \n",
       "\n",
       "                                          imageurl_4  \\\n",
       "0  https://i5.walmartimages.com/asr/b7292205-92e0...   \n",
       "1  https://i5.walmartimages.com/asr/e7d169b8-54a9...   \n",
       "\n",
       "                                          imageurl_5 Final Decision  \\\n",
       "0  https://i5.walmartimages.com/asr/9278b1bf-0ff3...      lifestyle   \n",
       "1  https://i5.walmartimages.com/asr/b163f289-256a...      lifestyle   \n",
       "\n",
       "   Number of images in cluster  Number of matching images  \\\n",
       "0                            5                          5   \n",
       "1                            5                          5   \n",
       "\n",
       "  Incorrect Image URLS Incorrect Image Number  \\\n",
       "0                  NaN                    NaN   \n",
       "1                  NaN                    NaN   \n",
       "\n",
       "  Image URL Number unrelated to the Home Category  \\\n",
       "0                                             NaN   \n",
       "1                                             NaN   \n",
       "\n",
       "  Image URLs unrelated to the Home Category Comments  \n",
       "0                                       NaN      NaN  \n",
       "1                                       NaN      NaN  "
      ]
     },
     "execution_count": 3,
     "metadata": {},
     "output_type": "execute_result"
    }
   ],
   "source": [
    "df = pd.read_excel(\"data/crowd/Batch11_DS_Imagery_Retagging 3542 lifestyle clusters in Home_Output_final.xlsx\")\n",
    "df.head(2)"
   ]
  },
  {
   "cell_type": "code",
   "execution_count": 11,
   "metadata": {},
   "outputs": [
    {
     "data": {
      "text/html": [
       "<div>\n",
       "<style scoped>\n",
       "    .dataframe tbody tr th:only-of-type {\n",
       "        vertical-align: middle;\n",
       "    }\n",
       "\n",
       "    .dataframe tbody tr th {\n",
       "        vertical-align: top;\n",
       "    }\n",
       "\n",
       "    .dataframe thead th {\n",
       "        text-align: right;\n",
       "    }\n",
       "</style>\n",
       "<table border=\"1\" class=\"dataframe\">\n",
       "  <thead>\n",
       "    <tr style=\"text-align: right;\">\n",
       "      <th></th>\n",
       "      <th>batch</th>\n",
       "      <th>label</th>\n",
       "      <th>url</th>\n",
       "    </tr>\n",
       "  </thead>\n",
       "  <tbody>\n",
       "    <tr>\n",
       "      <th>0</th>\n",
       "      <td>1</td>\n",
       "      <td>lifestyle</td>\n",
       "      <td>https://i5.walmartimages.com/asr/f595ac7d-591d...</td>\n",
       "    </tr>\n",
       "    <tr>\n",
       "      <th>1</th>\n",
       "      <td>1</td>\n",
       "      <td>lifestyle</td>\n",
       "      <td>https://i5.walmartimages.com/asr/ccaab6a1-cd31...</td>\n",
       "    </tr>\n",
       "  </tbody>\n",
       "</table>\n",
       "</div>"
      ],
      "text/plain": [
       "  batch      label                                                url\n",
       "0     1  lifestyle  https://i5.walmartimages.com/asr/f595ac7d-591d...\n",
       "1     1  lifestyle  https://i5.walmartimages.com/asr/ccaab6a1-cd31..."
      ]
     },
     "execution_count": 11,
     "metadata": {},
     "output_type": "execute_result"
    }
   ],
   "source": [
    "df_reshaped = pd.melt(df[[\"Batch\", \"imageurl_1\", \"imageurl_2\", \"imageurl_3\", \"imageurl_4\", \"imageurl_5\", \"Final Decision\"]], \n",
    "                      id_vars=[\"Batch\", \"Final Decision\"], var_name='imageurl', value_name='url').\\\n",
    "                        drop(['imageurl'], axis=1).rename(columns={\"Final Decision\": \"label\", \"Batch\":\"batch\"})\n",
    "df_reshaped.head(2)"
   ]
  },
  {
   "cell_type": "markdown",
   "metadata": {},
   "source": [
    "### b. The values are in one column in form of a list"
   ]
  },
  {
   "cell_type": "code",
   "execution_count": null,
   "metadata": {},
   "outputs": [],
   "source": [
    "expand_col = 'assetURLs'\n",
    "import numpy as np\n",
    "newDF = pd.DataFrame({\n",
    "      col:np.repeat(df[col].values, df[expand_col].str.len())\n",
    "      for col in df.columns.drop(expand_col)}\n",
    "    ).assign(**{expand_col:np.concatenate(df[expand_col].values)})[df.columns]\n",
    "\n",
    "newDF = newDF.rename(columns={\"assetUrls\": \"assetURL\"})"
   ]
  },
  {
   "cell_type": "code",
   "execution_count": null,
   "metadata": {},
   "outputs": [],
   "source": []
  },
  {
   "cell_type": "markdown",
   "metadata": {},
   "source": [
    "# 5. Check duplicates"
   ]
  },
  {
   "cell_type": "code",
   "execution_count": 13,
   "metadata": {},
   "outputs": [
    {
     "data": {
      "text/html": [
       "<div>\n",
       "<style scoped>\n",
       "    .dataframe tbody tr th:only-of-type {\n",
       "        vertical-align: middle;\n",
       "    }\n",
       "\n",
       "    .dataframe tbody tr th {\n",
       "        vertical-align: top;\n",
       "    }\n",
       "\n",
       "    .dataframe thead th {\n",
       "        text-align: right;\n",
       "    }\n",
       "</style>\n",
       "<table border=\"1\" class=\"dataframe\">\n",
       "  <thead>\n",
       "    <tr style=\"text-align: right;\">\n",
       "      <th></th>\n",
       "      <th>batch</th>\n",
       "      <th>label</th>\n",
       "      <th>url</th>\n",
       "    </tr>\n",
       "  </thead>\n",
       "  <tbody>\n",
       "    <tr>\n",
       "      <th>1067</th>\n",
       "      <td>3</td>\n",
       "      <td>lifestyle</td>\n",
       "      <td>http://i5.walmartimages.com/asr/ab119ce9-ef4e-...</td>\n",
       "    </tr>\n",
       "    <tr>\n",
       "      <th>2901</th>\n",
       "      <td>7</td>\n",
       "      <td>lifestyle</td>\n",
       "      <td>https://i5.walmartimages.com/asr/43c96f60-fc05...</td>\n",
       "    </tr>\n",
       "    <tr>\n",
       "      <th>4609</th>\n",
       "      <td>3</td>\n",
       "      <td>lifestyle</td>\n",
       "      <td>http://i5.walmartimages.com/asr/506f561b-c9c5-...</td>\n",
       "    </tr>\n",
       "    <tr>\n",
       "      <th>6443</th>\n",
       "      <td>7</td>\n",
       "      <td>lifestyle</td>\n",
       "      <td>https://i5.walmartimages.com/asr/43c96f60-fc05...</td>\n",
       "    </tr>\n",
       "    <tr>\n",
       "      <th>8151</th>\n",
       "      <td>3</td>\n",
       "      <td>lifestyle</td>\n",
       "      <td>http://i5.walmartimages.com/asr/ab119ce9-ef4e-...</td>\n",
       "    </tr>\n",
       "    <tr>\n",
       "      <th>9985</th>\n",
       "      <td>7</td>\n",
       "      <td>lifestyle</td>\n",
       "      <td>https://i5.walmartimages.com/asr/0114951b-49d3...</td>\n",
       "    </tr>\n",
       "    <tr>\n",
       "      <th>11693</th>\n",
       "      <td>3</td>\n",
       "      <td>lifestyle</td>\n",
       "      <td>http://i5.walmartimages.com/asr/506f561b-c9c5-...</td>\n",
       "    </tr>\n",
       "    <tr>\n",
       "      <th>13527</th>\n",
       "      <td>7</td>\n",
       "      <td>lifestyle</td>\n",
       "      <td>https://i5.walmartimages.com/asr/0114951b-49d3...</td>\n",
       "    </tr>\n",
       "  </tbody>\n",
       "</table>\n",
       "</div>"
      ],
      "text/plain": [
       "      batch      label                                                url\n",
       "1067      3  lifestyle  http://i5.walmartimages.com/asr/ab119ce9-ef4e-...\n",
       "2901      7  lifestyle  https://i5.walmartimages.com/asr/43c96f60-fc05...\n",
       "4609      3  lifestyle  http://i5.walmartimages.com/asr/506f561b-c9c5-...\n",
       "6443      7  lifestyle  https://i5.walmartimages.com/asr/43c96f60-fc05...\n",
       "8151      3  lifestyle  http://i5.walmartimages.com/asr/ab119ce9-ef4e-...\n",
       "9985      7  lifestyle  https://i5.walmartimages.com/asr/0114951b-49d3...\n",
       "11693     3  lifestyle  http://i5.walmartimages.com/asr/506f561b-c9c5-...\n",
       "13527     7  lifestyle  https://i5.walmartimages.com/asr/0114951b-49d3..."
      ]
     },
     "execution_count": 13,
     "metadata": {},
     "output_type": "execute_result"
    }
   ],
   "source": [
    "# display all duplicates for keep=False, nothing is kept\n",
    "df_reshaped = df_reshaped[df_reshaped['url'].notnull()]\n",
    "df_reshaped[df_reshaped.duplicated(subset=['url'], keep=False)]"
   ]
  },
  {
   "cell_type": "code",
   "execution_count": 14,
   "metadata": {},
   "outputs": [
    {
     "data": {
      "text/html": [
       "<div>\n",
       "<style scoped>\n",
       "    .dataframe tbody tr th:only-of-type {\n",
       "        vertical-align: middle;\n",
       "    }\n",
       "\n",
       "    .dataframe tbody tr th {\n",
       "        vertical-align: top;\n",
       "    }\n",
       "\n",
       "    .dataframe thead th {\n",
       "        text-align: right;\n",
       "    }\n",
       "</style>\n",
       "<table border=\"1\" class=\"dataframe\">\n",
       "  <thead>\n",
       "    <tr style=\"text-align: right;\">\n",
       "      <th></th>\n",
       "      <th>batch</th>\n",
       "      <th>label</th>\n",
       "      <th>url</th>\n",
       "    </tr>\n",
       "  </thead>\n",
       "  <tbody>\n",
       "    <tr>\n",
       "      <th>6443</th>\n",
       "      <td>7</td>\n",
       "      <td>lifestyle</td>\n",
       "      <td>https://i5.walmartimages.com/asr/43c96f60-fc05...</td>\n",
       "    </tr>\n",
       "    <tr>\n",
       "      <th>8151</th>\n",
       "      <td>3</td>\n",
       "      <td>lifestyle</td>\n",
       "      <td>http://i5.walmartimages.com/asr/ab119ce9-ef4e-...</td>\n",
       "    </tr>\n",
       "    <tr>\n",
       "      <th>11693</th>\n",
       "      <td>3</td>\n",
       "      <td>lifestyle</td>\n",
       "      <td>http://i5.walmartimages.com/asr/506f561b-c9c5-...</td>\n",
       "    </tr>\n",
       "    <tr>\n",
       "      <th>13527</th>\n",
       "      <td>7</td>\n",
       "      <td>lifestyle</td>\n",
       "      <td>https://i5.walmartimages.com/asr/0114951b-49d3...</td>\n",
       "    </tr>\n",
       "  </tbody>\n",
       "</table>\n",
       "</div>"
      ],
      "text/plain": [
       "      batch      label                                                url\n",
       "6443      7  lifestyle  https://i5.walmartimages.com/asr/43c96f60-fc05...\n",
       "8151      3  lifestyle  http://i5.walmartimages.com/asr/ab119ce9-ef4e-...\n",
       "11693     3  lifestyle  http://i5.walmartimages.com/asr/506f561b-c9c5-...\n",
       "13527     7  lifestyle  https://i5.walmartimages.com/asr/0114951b-49d3..."
      ]
     },
     "execution_count": 14,
     "metadata": {},
     "output_type": "execute_result"
    }
   ],
   "source": [
    "# These are the same rows that you are going to remove if using the same keep option\n",
    "df_reshaped[df_reshaped.duplicated(subset=['url'], keep='first')]"
   ]
  },
  {
   "cell_type": "code",
   "execution_count": 7,
   "metadata": {},
   "outputs": [],
   "source": [
    "# keep the first duplicated records\n",
    "df_unique = df_reshaped.drop_duplicates(subset=None, keep='first', inplace=False)"
   ]
  },
  {
   "cell_type": "code",
   "execution_count": null,
   "metadata": {},
   "outputs": [],
   "source": [
    "# keep the majority label if duplicated\n",
    "df_unique = df_reshaped.groupby(\"url\").agg(lambda x: x.value_counts().index[0]).reset_index()"
   ]
  },
  {
   "cell_type": "code",
   "execution_count": null,
   "metadata": {},
   "outputs": [],
   "source": []
  },
  {
   "cell_type": "markdown",
   "metadata": {},
   "source": [
    "# 6. Append and join"
   ]
  },
  {
   "cell_type": "markdown",
   "metadata": {},
   "source": [
    "### a. Append"
   ]
  },
  {
   "cell_type": "code",
   "execution_count": null,
   "metadata": {},
   "outputs": [],
   "source": [
    "frames = [data1, data2]\n",
    "df = pd.concat(frames, ignore_index=True, sort=False)"
   ]
  },
  {
   "cell_type": "markdown",
   "metadata": {},
   "source": [
    "### b. Join two dataframes"
   ]
  },
  {
   "cell_type": "code",
   "execution_count": null,
   "metadata": {},
   "outputs": [],
   "source": [
    "df_merged = pd.merge(df_left, \n",
    "                    df_right,\n",
    "                    on='url', how='left')"
   ]
  }
 ],
 "metadata": {
  "kernelspec": {
   "display_name": "Python 3",
   "language": "python",
   "name": "python3"
  },
  "language_info": {
   "codemirror_mode": {
    "name": "ipython",
    "version": 3
   },
   "file_extension": ".py",
   "mimetype": "text/x-python",
   "name": "python",
   "nbconvert_exporter": "python",
   "pygments_lexer": "ipython3",
   "version": "3.6.10"
  }
 },
 "nbformat": 4,
 "nbformat_minor": 2
}

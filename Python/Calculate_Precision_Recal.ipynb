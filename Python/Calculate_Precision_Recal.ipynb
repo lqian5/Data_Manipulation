{
 "cells": [
  {
   "cell_type": "code",
   "execution_count": 1,
   "metadata": {},
   "outputs": [],
   "source": [
    "import numpy as np\n",
    "from sklearn.metrics import precision_score, accuracy_score, recall_score, f1_score \n",
    "from sklearn.metrics import precision_recall_fscore_support, classification_report, confusion_matrix\n",
    "import matplotlib.pyplot as plt"
   ]
  },
  {
   "cell_type": "markdown",
   "metadata": {},
   "source": [
    "# Calculate Precision for All Labels\n",
    "### y_true and y_pred have all labels"
   ]
  },
  {
   "cell_type": "code",
   "execution_count": 20,
   "metadata": {},
   "outputs": [
    {
     "name": "stdout",
     "output_type": "stream",
     "text": [
      "(0.7, 0.6, 0.6, None)\n",
      "(0.7, 0.6, 0.6, None)\n"
     ]
    }
   ],
   "source": [
    "y_true = np.array(['lifestyle', 'lifestyle','silo','silo', 'other'])\n",
    "y_pred = np.array(['lifestyle', 'silo', 'other','silo', 'other'])\n",
    "# consider all labels in the actual\n",
    "print(precision_recall_fscore_support(y_true, y_pred, average='weighted'))\n",
    "\n",
    "# only consider labels that exist in prediction\n",
    "print(precision_recall_fscore_support(y_true, y_pred, average='weighted', labels=np.unique(predict)))\n",
    "\n",
    "#              precision\n",
    "# lifestyle    1 (2)\n",
    "# silo         0.5 (2)\n",
    "# other       0.5 (1)"
   ]
  },
  {
   "cell_type": "code",
   "execution_count": 10,
   "metadata": {},
   "outputs": [
    {
     "data": {
      "text/plain": [
       "0.7"
      ]
     },
     "execution_count": 10,
     "metadata": {},
     "output_type": "execute_result"
    }
   ],
   "source": [
    "(2+ 1 + 0.5)/5"
   ]
  },
  {
   "cell_type": "markdown",
   "metadata": {},
   "source": [
    "### y_pred is missing one label from y_true"
   ]
  },
  {
   "cell_type": "code",
   "execution_count": 4,
   "metadata": {},
   "outputs": [
    {
     "name": "stdout",
     "output_type": "stream",
     "text": [
      "(0.26666666666666666, 0.4, 0.3, None)\n",
      "(0.4444444444444444, 0.6666666666666666, 0.5, None)\n"
     ]
    },
    {
     "name": "stderr",
     "output_type": "stream",
     "text": [
      "/opt/anaconda3/envs/py36/lib/python3.6/site-packages/sklearn/metrics/classification.py:1143: UndefinedMetricWarning: Precision and F-score are ill-defined and being set to 0.0 in labels with no predicted samples.\n",
      "  'precision', 'predicted', average, warn_for)\n"
     ]
    }
   ],
   "source": [
    "y_true = np.array(['lifestyle', 'lifestyle','silo','silo', 'other'])\n",
    "y_pred = np.array(['other', 'silo', 'other','silo', 'other'])\n",
    "# consider all labels in the \n",
    "print(precision_recall_fscore_support(y_true, y_pred, average='weighted'))\n",
    "\n",
    "# lifestyle is not included in the calculation, so precision is higher\n",
    "print(precision_recall_fscore_support(y_true, y_pred, average='weighted', labels=np.unique(predict)))\n",
    "\n",
    "#              precision\n",
    "# lifestyle    0 (0)\n",
    "# silo         0.5 (2)\n",
    "# other       0.33 (1)"
   ]
  },
  {
   "cell_type": "code",
   "execution_count": 12,
   "metadata": {},
   "outputs": [
    {
     "name": "stdout",
     "output_type": "stream",
     "text": [
      "0.266\n",
      "0.44333333333333336\n"
     ]
    }
   ],
   "source": [
    "print(1.33/5) \n",
    "print(1.33/3) # exclude lifestyle"
   ]
  },
  {
   "cell_type": "markdown",
   "metadata": {},
   "source": [
    "### y_pred has an extra label than"
   ]
  },
  {
   "cell_type": "code",
   "execution_count": 14,
   "metadata": {},
   "outputs": [
    {
     "name": "stdout",
     "output_type": "stream",
     "text": [
      "(0.7, 0.4, 0.5066666666666666, None)\n",
      "(0.7, 0.4, 0.5066666666666666, None)\n"
     ]
    }
   ],
   "source": [
    "y_true = np.array(['lifestyle', 'lifestyle','silo','silo', 'silo'])\n",
    "y_pred = np.array(['lifestyle', 'silo', 'other','silo', 'other'])\n",
    "# consider all labels in the \n",
    "print(precision_recall_fscore_support(y_true, y_pred, average='weighted'))\n",
    "\n",
    "# only consider labels that exist in prediction\n",
    "print(precision_recall_fscore_support(y_true, y_pred, average='weighted', labels=np.unique(predict)))\n",
    "\n",
    "#              precision\n",
    "# lifestyle    1 (2)\n",
    "# silo         0.5 (3)\n",
    "# other       0 (0)"
   ]
  },
  {
   "cell_type": "code",
   "execution_count": 19,
   "metadata": {},
   "outputs": [
    {
     "data": {
      "text/plain": [
       "0.7"
      ]
     },
     "execution_count": 19,
     "metadata": {},
     "output_type": "execute_result"
    }
   ],
   "source": [
    "(2 + 0.5*3) /5"
   ]
  },
  {
   "cell_type": "markdown",
   "metadata": {},
   "source": [
    "# Calculate Precision for One Label in Multiclass Problem"
   ]
  },
  {
   "cell_type": "code",
   "execution_count": 21,
   "metadata": {},
   "outputs": [
    {
     "data": {
      "text/plain": [
       "(1.0, 0.5, 0.6666666666666666, None)"
      ]
     },
     "execution_count": 21,
     "metadata": {},
     "output_type": "execute_result"
    }
   ],
   "source": [
    "y_true = np.array(['lifestyle', 'lifestyle','silo','silo', 'other'])\n",
    "y_pred = np.array(['lifestyle', 'silo', 'other','silo', 'other'])\n",
    "precision_recall_fscore_support(y_true,y_pred, labels=['lifestyle'],average='micro')"
   ]
  },
  {
   "cell_type": "code",
   "execution_count": null,
   "metadata": {},
   "outputs": [],
   "source": []
  },
  {
   "cell_type": "markdown",
   "metadata": {},
   "source": [
    "# Create a DataFrame of scores by PT"
   ]
  },
  {
   "cell_type": "code",
   "execution_count": null,
   "metadata": {},
   "outputs": [],
   "source": [
    "target_df = test_df_original.copy()\n",
    "count_pt_in_test = target_df['productType'].value_counts().to_dict()\n",
    "count_of_lifestyle_in_test = target_df[target_df.label =='lifestyle']['productType'].value_counts().to_dict()\n",
    "\n",
    "pts = []\n",
    "precisions = []\n",
    "recalls = []\n",
    "f1s = []\n",
    "counts = []\n",
    "lifestyle_precisions = []\n",
    "lifestyle_recalls = []\n",
    "lifestyle_f1s = []\n",
    "counts_lifestyle = []\n",
    "\n",
    "for pt in target_df['productType'].unique():\n",
    "    indices = target_df.index[target_df['productType']==pt]\n",
    "    y_true = target_df.loc[indices, 'label'].values\n",
    "    y_pred = target_df.loc[indices, 'predicted'].values \n",
    "    pts.append(pt) \n",
    "    \n",
    "    prec, recall, fscore, _ = precision_recall_fscore_support(y_true, y_pred, average='weighted')\n",
    "    precisions.append(prec)\n",
    "    recalls.append(recall)\n",
    "    f1s.append(fscore)\n",
    "    counts.append(count_pt_in_test[pt])\n",
    "    \n",
    "    ls_prec,ls_recall,ls_fscore,_ = precision_recall_fscore_support(y_true,y_pred, labels=['lifestyle'],average='micro')\n",
    "    lifestyle_precisions.append(ls_prec)\n",
    "    lifestyle_recalls.append(ls_recall)\n",
    "    lifestyle_f1s.append(ls_fscore)\n",
    "    \n",
    "    if pt in count_of_lifestyle_in_test:\n",
    "        counts_lifestyle.append(count_of_lifestyle_in_test[pt])\n",
    "    else:\n",
    "        counts_lifestyle.append(0)\n",
    "\n",
    "df = pd.DataFrame({'productType':pts, \n",
    "                  'precision': precisions, 'recall':recalls, 'weighted_F1': f1s,\n",
    "                   'lifestyle_precision': lifestyle_precisions, 'lifestyle_recall':lifestyle_recalls, \n",
    "                   'lifestyle_weighted_F1': lifestyle_f1s,\n",
    "                  'count_in_test':counts, 'lifestyle_count_in_test':counts_lifestyle} )"
   ]
  },
  {
   "cell_type": "code",
   "execution_count": null,
   "metadata": {},
   "outputs": [],
   "source": []
  }
 ],
 "metadata": {
  "kernelspec": {
   "display_name": "Python 3",
   "language": "python",
   "name": "python3"
  },
  "language_info": {
   "codemirror_mode": {
    "name": "ipython",
    "version": 3
   },
   "file_extension": ".py",
   "mimetype": "text/x-python",
   "name": "python",
   "nbconvert_exporter": "python",
   "pygments_lexer": "ipython3",
   "version": "3.6.9"
  }
 },
 "nbformat": 4,
 "nbformat_minor": 2
}
